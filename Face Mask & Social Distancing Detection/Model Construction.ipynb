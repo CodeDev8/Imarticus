{
 "cells": [
  {
   "cell_type": "markdown",
   "id": "03fd9e74",
   "metadata": {},
   "source": [
    "# Model Construction"
   ]
  },
  {
   "cell_type": "markdown",
   "id": "39836b06",
   "metadata": {},
   "source": [
    "### Importing Necessary Libraries"
   ]
  },
  {
   "cell_type": "code",
   "execution_count": 1,
   "id": "f9cb33a4",
   "metadata": {},
   "outputs": [],
   "source": [
    "import numpy as np\n",
    "from keras.applications.mobilenet_v2 import MobileNetV2\n",
    "from keras.layers import Dense\n",
    "from keras import Model\n",
    "import cv2"
   ]
  },
  {
   "cell_type": "markdown",
   "id": "8edf4838",
   "metadata": {},
   "source": [
    "### Loading the Created Data"
   ]
  },
  {
   "cell_type": "code",
   "execution_count": 2,
   "id": "428a03ac",
   "metadata": {},
   "outputs": [],
   "source": [
    "X_train = np.load('X_train.npy')\n",
    "y_train = np.load('y_train.npy')\n",
    "X_test = np.load('X_test.npy')\n",
    "y_test = np.load('y_test.npy')"
   ]
  },
  {
   "cell_type": "markdown",
   "id": "959d7a3d",
   "metadata": {},
   "source": [
    "### Model Construction"
   ]
  },
  {
   "cell_type": "code",
   "execution_count": 3,
   "id": "5ded3aa1",
   "metadata": {},
   "outputs": [],
   "source": [
    "MobNetV2 = MobileNetV2(weights='imagenet')"
   ]
  },
  {
   "cell_type": "markdown",
   "id": "e05d41b8",
   "metadata": {},
   "source": [
    "### Creating a Dense layer with 2 neurons which will be our Output Layer"
   ]
  },
  {
   "cell_type": "code",
   "execution_count": 4,
   "id": "14bd9595",
   "metadata": {},
   "outputs": [],
   "source": [
    "MaskModelOutput = Dense(2, activation='softmax')"
   ]
  },
  {
   "cell_type": "markdown",
   "id": "230629e7",
   "metadata": {},
   "source": [
    "### Attaching that to the MobileNet layers except the last one"
   ]
  },
  {
   "cell_type": "code",
   "execution_count": 5,
   "id": "eedf2097",
   "metadata": {},
   "outputs": [],
   "source": [
    "MaskModelOutput = MaskModelOutput(MobNetV2.layers[-2].output)"
   ]
  },
  {
   "cell_type": "markdown",
   "id": "0d7cee8f",
   "metadata": {},
   "source": [
    "### Defining  Input Layer and making a Model with the Input & Output Layers"
   ]
  },
  {
   "cell_type": "code",
   "execution_count": 6,
   "id": "6fd16781",
   "metadata": {},
   "outputs": [],
   "source": [
    "MaskModelInput = MobNetV2.input\n",
    "MaskModel = Model(inputs=MaskModelInput, outputs=MaskModelOutput)"
   ]
  },
  {
   "cell_type": "markdown",
   "id": "254db1cd",
   "metadata": {},
   "source": [
    "### Setting the Layers as Untrainable"
   ]
  },
  {
   "cell_type": "code",
   "execution_count": 7,
   "id": "ec01e6dd",
   "metadata": {},
   "outputs": [],
   "source": [
    "for layer in MaskModel.layers[:-1]:\n",
    "    layer.trainable = False"
   ]
  },
  {
   "cell_type": "markdown",
   "id": "bfbfcc40",
   "metadata": {},
   "source": [
    "### Compiling the model"
   ]
  },
  {
   "cell_type": "code",
   "execution_count": 8,
   "id": "f15a1259",
   "metadata": {},
   "outputs": [],
   "source": [
    "MaskModel.compile(\n",
    "    optimizer='adam',\n",
    "    loss='sparse_categorical_crossentropy',\n",
    "    metrics=['accuracy']\n",
    ")"
   ]
  },
  {
   "cell_type": "markdown",
   "id": "e93f6971",
   "metadata": {},
   "source": [
    "### Training the Model"
   ]
  },
  {
   "cell_type": "code",
   "execution_count": 9,
   "id": "18a01a9e",
   "metadata": {},
   "outputs": [
    {
     "name": "stdout",
     "output_type": "stream",
     "text": [
      "Epoch 1/2\n",
      "313/313 [==============================] - 131s 408ms/step - loss: 0.0465 - accuracy: 0.9819 - val_loss: 0.0131 - val_accuracy: 0.9970\n",
      "Epoch 2/2\n",
      "313/313 [==============================] - 125s 400ms/step - loss: 0.0108 - accuracy: 0.9973 - val_loss: 0.0116 - val_accuracy: 0.9970\n"
     ]
    },
    {
     "data": {
      "text/plain": [
       "<keras.callbacks.History at 0x21fb5021a00>"
      ]
     },
     "execution_count": 9,
     "metadata": {},
     "output_type": "execute_result"
    }
   ],
   "source": [
    "MaskModel.fit(X_train, y_train, epochs=2, validation_data=(X_test, y_test))"
   ]
  },
  {
   "cell_type": "markdown",
   "id": "5cd7374c",
   "metadata": {},
   "source": [
    "### Saving the Model"
   ]
  },
  {
   "cell_type": "code",
   "execution_count": 10,
   "id": "7d37c010",
   "metadata": {},
   "outputs": [],
   "source": [
    "MaskModel.save('MaskDetectionCORE.h5')"
   ]
  }
 ],
 "metadata": {
  "kernelspec": {
   "display_name": "Python 3 (ipykernel)",
   "language": "python",
   "name": "python3"
  },
  "language_info": {
   "codemirror_mode": {
    "name": "ipython",
    "version": 3
   },
   "file_extension": ".py",
   "mimetype": "text/x-python",
   "name": "python",
   "nbconvert_exporter": "python",
   "pygments_lexer": "ipython3",
   "version": "3.9.12"
  }
 },
 "nbformat": 4,
 "nbformat_minor": 5
}

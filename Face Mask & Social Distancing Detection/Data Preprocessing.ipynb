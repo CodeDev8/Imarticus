{
 "cells": [
  {
   "cell_type": "markdown",
   "id": "617802fa",
   "metadata": {},
   "source": [
    "# Data Preprocessing"
   ]
  },
  {
   "cell_type": "markdown",
   "id": "fe17f7ad",
   "metadata": {},
   "source": [
    "### Importing Necessary Libraries"
   ]
  },
  {
   "cell_type": "code",
   "execution_count": 1,
   "id": "8280abca",
   "metadata": {},
   "outputs": [],
   "source": [
    "import cv2\n",
    "import numpy as np\n",
    "import os\n",
    "import random\n",
    "from tensorflow.keras.applications.mobilenet_v2 import preprocess_input"
   ]
  },
  {
   "cell_type": "markdown",
   "id": "f84917fd",
   "metadata": {},
   "source": [
    "### Train and Test Data Paths"
   ]
  },
  {
   "cell_type": "code",
   "execution_count": 2,
   "id": "eb5476df",
   "metadata": {},
   "outputs": [],
   "source": [
    "TRAIN_DATA = r'C:/Jupyter/Face Mask & Social Distancing Detection/Face Mask Dataset/Train'"
   ]
  },
  {
   "cell_type": "code",
   "execution_count": 3,
   "id": "ba0e6fb6",
   "metadata": {},
   "outputs": [],
   "source": [
    "TEST_DATA = r'C:/Jupyter/Face Mask & Social Distancing Detection/Face Mask Dataset/Test'"
   ]
  },
  {
   "cell_type": "markdown",
   "id": "f7efa200",
   "metadata": {},
   "source": [
    "### Categories"
   ]
  },
  {
   "cell_type": "code",
   "execution_count": 4,
   "id": "e29ea6ea",
   "metadata": {},
   "outputs": [],
   "source": [
    "CATEGORIES = ['WithoutMask', 'WithMask']"
   ]
  },
  {
   "cell_type": "markdown",
   "id": "b097f83f",
   "metadata": {},
   "source": [
    "### Creating trainData"
   ]
  },
  {
   "cell_type": "code",
   "execution_count": 5,
   "id": "54697b12",
   "metadata": {},
   "outputs": [],
   "source": [
    "trainData = [] \n",
    "for category in CATEGORIES: \n",
    "    folder_path = os.path.join(TRAIN_DATA, category)\n",
    "    img_names = os.listdir(folder_path)\n",
    "    \n",
    "    for img_name in img_names:\n",
    "        img_path = os.path.join(folder_path, img_name)\n",
    "        img = cv2.imread(img_path)\n",
    "        gray = cv2.cvtColor(img, cv2.COLOR_BGR2GRAY)\n",
    "        threed = np.repeat(gray[...,np.newaxis], 3, -1)\n",
    "        preprocessed = preprocess_input(threed)\n",
    "        resized = cv2.resize(preprocessed, (224,224))\n",
    "        trainData.append([resized, CATEGORIES.index(category)])"
   ]
  },
  {
   "cell_type": "markdown",
   "id": "48974e40",
   "metadata": {},
   "source": [
    "### Shuffling the trainData"
   ]
  },
  {
   "cell_type": "code",
   "execution_count": 6,
   "id": "d4a2cc29",
   "metadata": {},
   "outputs": [],
   "source": [
    "random.shuffle(trainData)"
   ]
  },
  {
   "cell_type": "markdown",
   "id": "ffaa0cbf",
   "metadata": {},
   "source": [
    "### Creating X_train and y_train"
   ]
  },
  {
   "cell_type": "code",
   "execution_count": 7,
   "id": "2150af43",
   "metadata": {},
   "outputs": [],
   "source": [
    "X_train = []\n",
    "y_train = []\n",
    "for item in trainData:\n",
    "    X_train.append(item[0])\n",
    "    y_train.append(item[1])\n",
    "X_train = np.array(X_train)\n",
    "y_train = np.array(y_train)"
   ]
  },
  {
   "cell_type": "markdown",
   "id": "1a557693",
   "metadata": {},
   "source": [
    "### Creating testData"
   ]
  },
  {
   "cell_type": "code",
   "execution_count": 8,
   "id": "64838b38",
   "metadata": {},
   "outputs": [],
   "source": [
    "testData = []\n",
    "for category in CATEGORIES:\n",
    "    folder_path = os.path.join(TEST_DATA, category)\n",
    "    img_names = os.listdir(folder_path)\n",
    "    \n",
    "    for img_name in img_names:\n",
    "        img_path = os.path.join(folder_path, img_name)\n",
    "        img = cv2.imread(img_path)\n",
    "        gray = cv2.cvtColor(img, cv2.COLOR_BGR2GRAY)\n",
    "        threed = np.repeat(gray[...,np.newaxis], 3, -1)\n",
    "        preprocessed = preprocess_input(threed)\n",
    "        resized = cv2.resize(preprocessed, (224,224))\n",
    "        testData.append([resized, CATEGORIES.index(category)])"
   ]
  },
  {
   "cell_type": "markdown",
   "id": "56146039",
   "metadata": {},
   "source": [
    "### Shuffling the testData"
   ]
  },
  {
   "cell_type": "code",
   "execution_count": 9,
   "id": "1e9b5f5d",
   "metadata": {},
   "outputs": [],
   "source": [
    "random.shuffle(testData)"
   ]
  },
  {
   "cell_type": "markdown",
   "id": "7d17d8b5",
   "metadata": {},
   "source": [
    "### Creating X_test and y_test"
   ]
  },
  {
   "cell_type": "code",
   "execution_count": 10,
   "id": "9052b7c2",
   "metadata": {},
   "outputs": [],
   "source": [
    "X_test = []\n",
    "y_test = []\n",
    "for item in testData:\n",
    "    X_test.append(item[0])\n",
    "    y_test.append(item[1])\n",
    "X_test = np.array(X_test)\n",
    "y_test = np.array(y_test)"
   ]
  },
  {
   "cell_type": "markdown",
   "id": "577cafee",
   "metadata": {},
   "source": [
    "### Saving the Created Data"
   ]
  },
  {
   "cell_type": "code",
   "execution_count": 11,
   "id": "2c33ef14",
   "metadata": {},
   "outputs": [],
   "source": [
    "np.save('X_train', X_train)\n",
    "np.save('y_train', y_train)\n",
    "np.save('X_test', X_test)\n",
    "np.save('y_test', y_test)"
   ]
  }
 ],
 "metadata": {
  "kernelspec": {
   "display_name": "Python 3 (ipykernel)",
   "language": "python",
   "name": "python3"
  },
  "language_info": {
   "codemirror_mode": {
    "name": "ipython",
    "version": 3
   },
   "file_extension": ".py",
   "mimetype": "text/x-python",
   "name": "python",
   "nbconvert_exporter": "python",
   "pygments_lexer": "ipython3",
   "version": "3.9.12"
  }
 },
 "nbformat": 4,
 "nbformat_minor": 5
}

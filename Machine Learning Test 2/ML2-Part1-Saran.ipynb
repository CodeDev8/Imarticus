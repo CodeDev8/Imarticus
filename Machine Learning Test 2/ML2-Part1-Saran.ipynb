{
 "cells": [
  {
   "cell_type": "markdown",
   "id": "18574b23",
   "metadata": {},
   "source": [
    "# Machine Learning using Python Exam - Paper 2"
   ]
  },
  {
   "cell_type": "markdown",
   "id": "77da3adb",
   "metadata": {},
   "source": [
    "## Part 1: Unsupervised Learning"
   ]
  },
  {
   "cell_type": "markdown",
   "id": "29223ee3",
   "metadata": {},
   "source": [
    "### Importing Necessary Libraries"
   ]
  },
  {
   "cell_type": "code",
   "execution_count": 286,
   "id": "d2773cdc",
   "metadata": {},
   "outputs": [],
   "source": [
    "import pandas as pd\n",
    "import numpy as np\n",
    "import matplotlib.pyplot as plt\n",
    "import seaborn as sns\n",
    "from sklearn.decomposition import PCA\n",
    "from warnings import filterwarnings\n",
    "filterwarnings('ignore')\n",
    "from sklearn.cluster import KMeans\n",
    "from sklearn import metrics\n",
    "from scipy.spatial.distance import cdist\n",
    "from sklearn.metrics import silhouette_score"
   ]
  },
  {
   "cell_type": "markdown",
   "id": "07209429",
   "metadata": {},
   "source": [
    "### Importing the Dataframe from csv"
   ]
  },
  {
   "cell_type": "code",
   "execution_count": 253,
   "id": "c2862bbd",
   "metadata": {},
   "outputs": [
    {
     "data": {
      "text/html": [
       "<div>\n",
       "<style scoped>\n",
       "    .dataframe tbody tr th:only-of-type {\n",
       "        vertical-align: middle;\n",
       "    }\n",
       "\n",
       "    .dataframe tbody tr th {\n",
       "        vertical-align: top;\n",
       "    }\n",
       "\n",
       "    .dataframe thead th {\n",
       "        text-align: right;\n",
       "    }\n",
       "</style>\n",
       "<table border=\"1\" class=\"dataframe\">\n",
       "  <thead>\n",
       "    <tr style=\"text-align: right;\">\n",
       "      <th></th>\n",
       "      <th>CUST_ID</th>\n",
       "      <th>BALANCE</th>\n",
       "      <th>BALANCE_FREQUENCY</th>\n",
       "      <th>PURCHASES</th>\n",
       "      <th>ONEOFF_PURCHASES</th>\n",
       "      <th>INSTALLMENTS_PURCHASES</th>\n",
       "      <th>CASH_ADVANCE</th>\n",
       "      <th>PURCHASES_FREQUENCY</th>\n",
       "      <th>ONEOFF_PURCHASES_FREQUENCY</th>\n",
       "      <th>PURCHASES_INSTALLMENTS_FREQUENCY</th>\n",
       "      <th>CASH_ADVANCE_FREQUENCY</th>\n",
       "      <th>CASH_ADVANCE_TRX</th>\n",
       "      <th>PURCHASES_TRX</th>\n",
       "      <th>CREDIT_LIMIT</th>\n",
       "      <th>PAYMENTS</th>\n",
       "      <th>MINIMUM_PAYMENTS</th>\n",
       "      <th>PRC_FULL_PAYMENT</th>\n",
       "      <th>TENURE</th>\n",
       "    </tr>\n",
       "  </thead>\n",
       "  <tbody>\n",
       "    <tr>\n",
       "      <th>0</th>\n",
       "      <td>C10001</td>\n",
       "      <td>40.900749</td>\n",
       "      <td>0.818182</td>\n",
       "      <td>95.40</td>\n",
       "      <td>0.00</td>\n",
       "      <td>95.4</td>\n",
       "      <td>0.000000</td>\n",
       "      <td>0.166667</td>\n",
       "      <td>0.000000</td>\n",
       "      <td>0.083333</td>\n",
       "      <td>0.000000</td>\n",
       "      <td>0</td>\n",
       "      <td>2</td>\n",
       "      <td>1000.0</td>\n",
       "      <td>201.802084</td>\n",
       "      <td>139.509787</td>\n",
       "      <td>0.000000</td>\n",
       "      <td>12</td>\n",
       "    </tr>\n",
       "    <tr>\n",
       "      <th>1</th>\n",
       "      <td>C10002</td>\n",
       "      <td>3202.467416</td>\n",
       "      <td>0.909091</td>\n",
       "      <td>0.00</td>\n",
       "      <td>0.00</td>\n",
       "      <td>0.0</td>\n",
       "      <td>6442.945483</td>\n",
       "      <td>0.000000</td>\n",
       "      <td>0.000000</td>\n",
       "      <td>0.000000</td>\n",
       "      <td>0.250000</td>\n",
       "      <td>4</td>\n",
       "      <td>0</td>\n",
       "      <td>7000.0</td>\n",
       "      <td>4103.032597</td>\n",
       "      <td>1072.340217</td>\n",
       "      <td>0.222222</td>\n",
       "      <td>12</td>\n",
       "    </tr>\n",
       "    <tr>\n",
       "      <th>2</th>\n",
       "      <td>C10003</td>\n",
       "      <td>2495.148862</td>\n",
       "      <td>1.000000</td>\n",
       "      <td>773.17</td>\n",
       "      <td>773.17</td>\n",
       "      <td>0.0</td>\n",
       "      <td>0.000000</td>\n",
       "      <td>1.000000</td>\n",
       "      <td>1.000000</td>\n",
       "      <td>0.000000</td>\n",
       "      <td>0.000000</td>\n",
       "      <td>0</td>\n",
       "      <td>12</td>\n",
       "      <td>7500.0</td>\n",
       "      <td>622.066742</td>\n",
       "      <td>627.284787</td>\n",
       "      <td>0.000000</td>\n",
       "      <td>12</td>\n",
       "    </tr>\n",
       "    <tr>\n",
       "      <th>3</th>\n",
       "      <td>C10004</td>\n",
       "      <td>1666.670542</td>\n",
       "      <td>0.636364</td>\n",
       "      <td>1499.00</td>\n",
       "      <td>1499.00</td>\n",
       "      <td>0.0</td>\n",
       "      <td>205.788017</td>\n",
       "      <td>0.083333</td>\n",
       "      <td>0.083333</td>\n",
       "      <td>0.000000</td>\n",
       "      <td>0.083333</td>\n",
       "      <td>1</td>\n",
       "      <td>1</td>\n",
       "      <td>7500.0</td>\n",
       "      <td>0.000000</td>\n",
       "      <td>NaN</td>\n",
       "      <td>0.000000</td>\n",
       "      <td>12</td>\n",
       "    </tr>\n",
       "    <tr>\n",
       "      <th>4</th>\n",
       "      <td>C10005</td>\n",
       "      <td>817.714335</td>\n",
       "      <td>1.000000</td>\n",
       "      <td>16.00</td>\n",
       "      <td>16.00</td>\n",
       "      <td>0.0</td>\n",
       "      <td>0.000000</td>\n",
       "      <td>0.083333</td>\n",
       "      <td>0.083333</td>\n",
       "      <td>0.000000</td>\n",
       "      <td>0.000000</td>\n",
       "      <td>0</td>\n",
       "      <td>1</td>\n",
       "      <td>1200.0</td>\n",
       "      <td>678.334763</td>\n",
       "      <td>244.791237</td>\n",
       "      <td>0.000000</td>\n",
       "      <td>12</td>\n",
       "    </tr>\n",
       "  </tbody>\n",
       "</table>\n",
       "</div>"
      ],
      "text/plain": [
       "  CUST_ID      BALANCE  BALANCE_FREQUENCY  PURCHASES  ONEOFF_PURCHASES  \\\n",
       "0  C10001    40.900749           0.818182      95.40              0.00   \n",
       "1  C10002  3202.467416           0.909091       0.00              0.00   \n",
       "2  C10003  2495.148862           1.000000     773.17            773.17   \n",
       "3  C10004  1666.670542           0.636364    1499.00           1499.00   \n",
       "4  C10005   817.714335           1.000000      16.00             16.00   \n",
       "\n",
       "   INSTALLMENTS_PURCHASES  CASH_ADVANCE  PURCHASES_FREQUENCY  \\\n",
       "0                    95.4      0.000000             0.166667   \n",
       "1                     0.0   6442.945483             0.000000   \n",
       "2                     0.0      0.000000             1.000000   \n",
       "3                     0.0    205.788017             0.083333   \n",
       "4                     0.0      0.000000             0.083333   \n",
       "\n",
       "   ONEOFF_PURCHASES_FREQUENCY  PURCHASES_INSTALLMENTS_FREQUENCY  \\\n",
       "0                    0.000000                          0.083333   \n",
       "1                    0.000000                          0.000000   \n",
       "2                    1.000000                          0.000000   \n",
       "3                    0.083333                          0.000000   \n",
       "4                    0.083333                          0.000000   \n",
       "\n",
       "   CASH_ADVANCE_FREQUENCY  CASH_ADVANCE_TRX  PURCHASES_TRX  CREDIT_LIMIT  \\\n",
       "0                0.000000                 0              2        1000.0   \n",
       "1                0.250000                 4              0        7000.0   \n",
       "2                0.000000                 0             12        7500.0   \n",
       "3                0.083333                 1              1        7500.0   \n",
       "4                0.000000                 0              1        1200.0   \n",
       "\n",
       "      PAYMENTS  MINIMUM_PAYMENTS  PRC_FULL_PAYMENT  TENURE  \n",
       "0   201.802084        139.509787          0.000000      12  \n",
       "1  4103.032597       1072.340217          0.222222      12  \n",
       "2   622.066742        627.284787          0.000000      12  \n",
       "3     0.000000               NaN          0.000000      12  \n",
       "4   678.334763        244.791237          0.000000      12  "
      ]
     },
     "execution_count": 253,
     "metadata": {},
     "output_type": "execute_result"
    }
   ],
   "source": [
    "cc=pd.read_csv('credit_card.csv')\n",
    "cc.head()"
   ]
  },
  {
   "cell_type": "markdown",
   "id": "6b98ba08",
   "metadata": {},
   "source": [
    "### Creating a copy to work on"
   ]
  },
  {
   "cell_type": "code",
   "execution_count": 254,
   "id": "ee6242cc",
   "metadata": {},
   "outputs": [],
   "source": [
    "df=cc.copy()"
   ]
  },
  {
   "cell_type": "code",
   "execution_count": 255,
   "id": "801639fd",
   "metadata": {},
   "outputs": [
    {
     "data": {
      "text/plain": [
       "CUST_ID                              object\n",
       "BALANCE                             float64\n",
       "BALANCE_FREQUENCY                   float64\n",
       "PURCHASES                           float64\n",
       "ONEOFF_PURCHASES                    float64\n",
       "INSTALLMENTS_PURCHASES              float64\n",
       "CASH_ADVANCE                        float64\n",
       "PURCHASES_FREQUENCY                 float64\n",
       "ONEOFF_PURCHASES_FREQUENCY          float64\n",
       "PURCHASES_INSTALLMENTS_FREQUENCY    float64\n",
       "CASH_ADVANCE_FREQUENCY              float64\n",
       "CASH_ADVANCE_TRX                      int64\n",
       "PURCHASES_TRX                         int64\n",
       "CREDIT_LIMIT                        float64\n",
       "PAYMENTS                            float64\n",
       "MINIMUM_PAYMENTS                    float64\n",
       "PRC_FULL_PAYMENT                    float64\n",
       "TENURE                                int64\n",
       "dtype: object"
      ]
     },
     "execution_count": 255,
     "metadata": {},
     "output_type": "execute_result"
    }
   ],
   "source": [
    "df.dtypes"
   ]
  },
  {
   "cell_type": "code",
   "execution_count": 256,
   "id": "0811b52c",
   "metadata": {},
   "outputs": [],
   "source": [
    "df.drop('CUST_ID',axis=1,inplace=True)"
   ]
  },
  {
   "cell_type": "markdown",
   "id": "b4c729e2",
   "metadata": {},
   "source": [
    "## Q1) What does the primary analysis of several categorical features reveal? "
   ]
  },
  {
   "cell_type": "markdown",
   "id": "80fa4992",
   "metadata": {},
   "source": [
    "### Analyzing the columns using describe()"
   ]
  },
  {
   "cell_type": "code",
   "execution_count": 257,
   "id": "0e22d5d0",
   "metadata": {},
   "outputs": [
    {
     "data": {
      "text/html": [
       "<div>\n",
       "<style scoped>\n",
       "    .dataframe tbody tr th:only-of-type {\n",
       "        vertical-align: middle;\n",
       "    }\n",
       "\n",
       "    .dataframe tbody tr th {\n",
       "        vertical-align: top;\n",
       "    }\n",
       "\n",
       "    .dataframe thead th {\n",
       "        text-align: right;\n",
       "    }\n",
       "</style>\n",
       "<table border=\"1\" class=\"dataframe\">\n",
       "  <thead>\n",
       "    <tr style=\"text-align: right;\">\n",
       "      <th></th>\n",
       "      <th>BALANCE</th>\n",
       "      <th>BALANCE_FREQUENCY</th>\n",
       "      <th>PURCHASES</th>\n",
       "      <th>ONEOFF_PURCHASES</th>\n",
       "      <th>INSTALLMENTS_PURCHASES</th>\n",
       "      <th>CASH_ADVANCE</th>\n",
       "      <th>PURCHASES_FREQUENCY</th>\n",
       "      <th>ONEOFF_PURCHASES_FREQUENCY</th>\n",
       "      <th>PURCHASES_INSTALLMENTS_FREQUENCY</th>\n",
       "      <th>CASH_ADVANCE_FREQUENCY</th>\n",
       "      <th>CASH_ADVANCE_TRX</th>\n",
       "      <th>PURCHASES_TRX</th>\n",
       "      <th>CREDIT_LIMIT</th>\n",
       "      <th>PAYMENTS</th>\n",
       "      <th>MINIMUM_PAYMENTS</th>\n",
       "      <th>PRC_FULL_PAYMENT</th>\n",
       "      <th>TENURE</th>\n",
       "    </tr>\n",
       "  </thead>\n",
       "  <tbody>\n",
       "    <tr>\n",
       "      <th>count</th>\n",
       "      <td>8950.000000</td>\n",
       "      <td>8950.000000</td>\n",
       "      <td>8950.000000</td>\n",
       "      <td>8950.000000</td>\n",
       "      <td>8950.000000</td>\n",
       "      <td>8950.000000</td>\n",
       "      <td>8950.000000</td>\n",
       "      <td>8950.000000</td>\n",
       "      <td>8950.000000</td>\n",
       "      <td>8950.000000</td>\n",
       "      <td>8950.000000</td>\n",
       "      <td>8950.000000</td>\n",
       "      <td>8949.000000</td>\n",
       "      <td>8950.000000</td>\n",
       "      <td>8637.000000</td>\n",
       "      <td>8950.000000</td>\n",
       "      <td>8950.000000</td>\n",
       "    </tr>\n",
       "    <tr>\n",
       "      <th>mean</th>\n",
       "      <td>1564.474828</td>\n",
       "      <td>0.877271</td>\n",
       "      <td>1003.204834</td>\n",
       "      <td>592.437371</td>\n",
       "      <td>411.067645</td>\n",
       "      <td>978.871112</td>\n",
       "      <td>0.490351</td>\n",
       "      <td>0.202458</td>\n",
       "      <td>0.364437</td>\n",
       "      <td>0.135144</td>\n",
       "      <td>3.248827</td>\n",
       "      <td>14.709832</td>\n",
       "      <td>4494.449450</td>\n",
       "      <td>1733.143852</td>\n",
       "      <td>864.206542</td>\n",
       "      <td>0.153715</td>\n",
       "      <td>11.517318</td>\n",
       "    </tr>\n",
       "    <tr>\n",
       "      <th>std</th>\n",
       "      <td>2081.531879</td>\n",
       "      <td>0.236904</td>\n",
       "      <td>2136.634782</td>\n",
       "      <td>1659.887917</td>\n",
       "      <td>904.338115</td>\n",
       "      <td>2097.163877</td>\n",
       "      <td>0.401371</td>\n",
       "      <td>0.298336</td>\n",
       "      <td>0.397448</td>\n",
       "      <td>0.200121</td>\n",
       "      <td>6.824647</td>\n",
       "      <td>24.857649</td>\n",
       "      <td>3638.815725</td>\n",
       "      <td>2895.063757</td>\n",
       "      <td>2372.446607</td>\n",
       "      <td>0.292499</td>\n",
       "      <td>1.338331</td>\n",
       "    </tr>\n",
       "    <tr>\n",
       "      <th>min</th>\n",
       "      <td>0.000000</td>\n",
       "      <td>0.000000</td>\n",
       "      <td>0.000000</td>\n",
       "      <td>0.000000</td>\n",
       "      <td>0.000000</td>\n",
       "      <td>0.000000</td>\n",
       "      <td>0.000000</td>\n",
       "      <td>0.000000</td>\n",
       "      <td>0.000000</td>\n",
       "      <td>0.000000</td>\n",
       "      <td>0.000000</td>\n",
       "      <td>0.000000</td>\n",
       "      <td>50.000000</td>\n",
       "      <td>0.000000</td>\n",
       "      <td>0.019163</td>\n",
       "      <td>0.000000</td>\n",
       "      <td>6.000000</td>\n",
       "    </tr>\n",
       "    <tr>\n",
       "      <th>25%</th>\n",
       "      <td>128.281915</td>\n",
       "      <td>0.888889</td>\n",
       "      <td>39.635000</td>\n",
       "      <td>0.000000</td>\n",
       "      <td>0.000000</td>\n",
       "      <td>0.000000</td>\n",
       "      <td>0.083333</td>\n",
       "      <td>0.000000</td>\n",
       "      <td>0.000000</td>\n",
       "      <td>0.000000</td>\n",
       "      <td>0.000000</td>\n",
       "      <td>1.000000</td>\n",
       "      <td>1600.000000</td>\n",
       "      <td>383.276166</td>\n",
       "      <td>169.123707</td>\n",
       "      <td>0.000000</td>\n",
       "      <td>12.000000</td>\n",
       "    </tr>\n",
       "    <tr>\n",
       "      <th>50%</th>\n",
       "      <td>873.385231</td>\n",
       "      <td>1.000000</td>\n",
       "      <td>361.280000</td>\n",
       "      <td>38.000000</td>\n",
       "      <td>89.000000</td>\n",
       "      <td>0.000000</td>\n",
       "      <td>0.500000</td>\n",
       "      <td>0.083333</td>\n",
       "      <td>0.166667</td>\n",
       "      <td>0.000000</td>\n",
       "      <td>0.000000</td>\n",
       "      <td>7.000000</td>\n",
       "      <td>3000.000000</td>\n",
       "      <td>856.901546</td>\n",
       "      <td>312.343947</td>\n",
       "      <td>0.000000</td>\n",
       "      <td>12.000000</td>\n",
       "    </tr>\n",
       "    <tr>\n",
       "      <th>75%</th>\n",
       "      <td>2054.140036</td>\n",
       "      <td>1.000000</td>\n",
       "      <td>1110.130000</td>\n",
       "      <td>577.405000</td>\n",
       "      <td>468.637500</td>\n",
       "      <td>1113.821139</td>\n",
       "      <td>0.916667</td>\n",
       "      <td>0.300000</td>\n",
       "      <td>0.750000</td>\n",
       "      <td>0.222222</td>\n",
       "      <td>4.000000</td>\n",
       "      <td>17.000000</td>\n",
       "      <td>6500.000000</td>\n",
       "      <td>1901.134317</td>\n",
       "      <td>825.485459</td>\n",
       "      <td>0.142857</td>\n",
       "      <td>12.000000</td>\n",
       "    </tr>\n",
       "    <tr>\n",
       "      <th>max</th>\n",
       "      <td>19043.138560</td>\n",
       "      <td>1.000000</td>\n",
       "      <td>49039.570000</td>\n",
       "      <td>40761.250000</td>\n",
       "      <td>22500.000000</td>\n",
       "      <td>47137.211760</td>\n",
       "      <td>1.000000</td>\n",
       "      <td>1.000000</td>\n",
       "      <td>1.000000</td>\n",
       "      <td>1.500000</td>\n",
       "      <td>123.000000</td>\n",
       "      <td>358.000000</td>\n",
       "      <td>30000.000000</td>\n",
       "      <td>50721.483360</td>\n",
       "      <td>76406.207520</td>\n",
       "      <td>1.000000</td>\n",
       "      <td>12.000000</td>\n",
       "    </tr>\n",
       "  </tbody>\n",
       "</table>\n",
       "</div>"
      ],
      "text/plain": [
       "            BALANCE  BALANCE_FREQUENCY     PURCHASES  ONEOFF_PURCHASES  \\\n",
       "count   8950.000000        8950.000000   8950.000000       8950.000000   \n",
       "mean    1564.474828           0.877271   1003.204834        592.437371   \n",
       "std     2081.531879           0.236904   2136.634782       1659.887917   \n",
       "min        0.000000           0.000000      0.000000          0.000000   \n",
       "25%      128.281915           0.888889     39.635000          0.000000   \n",
       "50%      873.385231           1.000000    361.280000         38.000000   \n",
       "75%     2054.140036           1.000000   1110.130000        577.405000   \n",
       "max    19043.138560           1.000000  49039.570000      40761.250000   \n",
       "\n",
       "       INSTALLMENTS_PURCHASES  CASH_ADVANCE  PURCHASES_FREQUENCY  \\\n",
       "count             8950.000000   8950.000000          8950.000000   \n",
       "mean               411.067645    978.871112             0.490351   \n",
       "std                904.338115   2097.163877             0.401371   \n",
       "min                  0.000000      0.000000             0.000000   \n",
       "25%                  0.000000      0.000000             0.083333   \n",
       "50%                 89.000000      0.000000             0.500000   \n",
       "75%                468.637500   1113.821139             0.916667   \n",
       "max              22500.000000  47137.211760             1.000000   \n",
       "\n",
       "       ONEOFF_PURCHASES_FREQUENCY  PURCHASES_INSTALLMENTS_FREQUENCY  \\\n",
       "count                 8950.000000                       8950.000000   \n",
       "mean                     0.202458                          0.364437   \n",
       "std                      0.298336                          0.397448   \n",
       "min                      0.000000                          0.000000   \n",
       "25%                      0.000000                          0.000000   \n",
       "50%                      0.083333                          0.166667   \n",
       "75%                      0.300000                          0.750000   \n",
       "max                      1.000000                          1.000000   \n",
       "\n",
       "       CASH_ADVANCE_FREQUENCY  CASH_ADVANCE_TRX  PURCHASES_TRX  CREDIT_LIMIT  \\\n",
       "count             8950.000000       8950.000000    8950.000000   8949.000000   \n",
       "mean                 0.135144          3.248827      14.709832   4494.449450   \n",
       "std                  0.200121          6.824647      24.857649   3638.815725   \n",
       "min                  0.000000          0.000000       0.000000     50.000000   \n",
       "25%                  0.000000          0.000000       1.000000   1600.000000   \n",
       "50%                  0.000000          0.000000       7.000000   3000.000000   \n",
       "75%                  0.222222          4.000000      17.000000   6500.000000   \n",
       "max                  1.500000        123.000000     358.000000  30000.000000   \n",
       "\n",
       "           PAYMENTS  MINIMUM_PAYMENTS  PRC_FULL_PAYMENT       TENURE  \n",
       "count   8950.000000       8637.000000       8950.000000  8950.000000  \n",
       "mean    1733.143852        864.206542          0.153715    11.517318  \n",
       "std     2895.063757       2372.446607          0.292499     1.338331  \n",
       "min        0.000000          0.019163          0.000000     6.000000  \n",
       "25%      383.276166        169.123707          0.000000    12.000000  \n",
       "50%      856.901546        312.343947          0.000000    12.000000  \n",
       "75%     1901.134317        825.485459          0.142857    12.000000  \n",
       "max    50721.483360      76406.207520          1.000000    12.000000  "
      ]
     },
     "execution_count": 257,
     "metadata": {},
     "output_type": "execute_result"
    }
   ],
   "source": [
    "df.describe()"
   ]
  },
  {
   "cell_type": "markdown",
   "id": "035a6a5a",
   "metadata": {},
   "source": [
    "We can see that the minimum tenure is 6 years\n",
    "There are customers with minimum balance 0\n",
    "Some customers have never used their credit card as the minimum payment is 0"
   ]
  },
  {
   "cell_type": "markdown",
   "id": "7c91e6c7",
   "metadata": {},
   "source": [
    "### Producing a correlation heatmap"
   ]
  },
  {
   "cell_type": "code",
   "execution_count": 258,
   "id": "17363075",
   "metadata": {},
   "outputs": [
    {
     "data": {
      "image/png": "[encoded data removed]",
      "text/plain": [
       "<Figure size 648x504 with 2 Axes>"
      ]
     },
     "metadata": {
      "needs_background": "light"
     },
     "output_type": "display_data"
    }
   ],
   "source": [
    "plt.figure(figsize=(9,7))\n",
    "sns.heatmap(df.corr())\n",
    "plt.show()"
   ]
  },
  {
   "cell_type": "markdown",
   "id": "b293285b",
   "metadata": {},
   "source": [
    "## Q2) Perform the following Exploratory Data Analysis tasks:"
   ]
  },
  {
   "cell_type": "markdown",
   "id": "89755c90",
   "metadata": {},
   "source": [
    "### a) Missing Value Analysis"
   ]
  },
  {
   "cell_type": "code",
   "execution_count": 259,
   "id": "0c22075a",
   "metadata": {},
   "outputs": [
    {
     "data": {
      "text/plain": [
       "BALANCE                               0\n",
       "BALANCE_FREQUENCY                     0\n",
       "PURCHASES                             0\n",
       "ONEOFF_PURCHASES                      0\n",
       "INSTALLMENTS_PURCHASES                0\n",
       "CASH_ADVANCE                          0\n",
       "PURCHASES_FREQUENCY                   0\n",
       "ONEOFF_PURCHASES_FREQUENCY            0\n",
       "PURCHASES_INSTALLMENTS_FREQUENCY      0\n",
       "CASH_ADVANCE_FREQUENCY                0\n",
       "CASH_ADVANCE_TRX                      0\n",
       "PURCHASES_TRX                         0\n",
       "CREDIT_LIMIT                          1\n",
       "PAYMENTS                              0\n",
       "MINIMUM_PAYMENTS                    313\n",
       "PRC_FULL_PAYMENT                      0\n",
       "TENURE                                0\n",
       "dtype: int64"
      ]
     },
     "execution_count": 259,
     "metadata": {},
     "output_type": "execute_result"
    }
   ],
   "source": [
    "df.isnull().sum()"
   ]
  },
  {
   "cell_type": "markdown",
   "id": "927afe7e",
   "metadata": {},
   "source": [
    "We can see that only the Credit_Limit and Minimum_Payments columns have missing values. Morover the Credit_Limit column has only 1 missing value so it's negligible."
   ]
  },
  {
   "cell_type": "markdown",
   "id": "9d458ef3",
   "metadata": {},
   "source": [
    "### Visualizing the null values"
   ]
  },
  {
   "cell_type": "code",
   "execution_count": 260,
   "id": "700e3f7b",
   "metadata": {},
   "outputs": [
    {
     "data": {
      "image/png": "[encoded data removed]",
      "text/plain": [
       "<Figure size 648x504 with 1 Axes>"
      ]
     },
     "metadata": {
      "needs_background": "light"
     },
     "output_type": "display_data"
    }
   ],
   "source": [
    "plt.figure(figsize=(9,7))\n",
    "sns.heatmap(df.isnull(), cbar=False)\n",
    "plt.show()"
   ]
  },
  {
   "cell_type": "markdown",
   "id": "6cbe38fa",
   "metadata": {},
   "source": [
    "### Handling the missing values"
   ]
  },
  {
   "cell_type": "code",
   "execution_count": 261,
   "id": "cb9a41b7",
   "metadata": {},
   "outputs": [],
   "source": [
    "df.MINIMUM_PAYMENTS.fillna(df.MINIMUM_PAYMENTS.median(),inplace=True)\n",
    "df.dropna(inplace=True)"
   ]
  },
  {
   "cell_type": "markdown",
   "id": "798394c0",
   "metadata": {},
   "source": [
    "### Visualizing the null values after treatment"
   ]
  },
  {
   "cell_type": "code",
   "execution_count": 262,
   "id": "d197c690",
   "metadata": {},
   "outputs": [
    {
     "data": {
      "image/png": "[encoded data removed]",
      "text/plain": [
       "<Figure size 648x504 with 1 Axes>"
      ]
     },
     "metadata": {
      "needs_background": "light"
     },
     "output_type": "display_data"
    }
   ],
   "source": [
    "plt.figure(figsize=(9,7))\n",
    "sns.heatmap(df.isnull(), cbar=False)\n",
    "plt.show()"
   ]
  },
  {
   "cell_type": "markdown",
   "id": "d41782a3",
   "metadata": {},
   "source": [
    "We can see that there are no more null values"
   ]
  },
  {
   "cell_type": "markdown",
   "id": "af742408",
   "metadata": {},
   "source": [
    "### b) Outlier Treatment using Z-Score Method"
   ]
  },
  {
   "cell_type": "markdown",
   "id": "fb91a296",
   "metadata": {},
   "source": [
    "### Defining a function that automatically treats the outliers detected using Z-Score"
   ]
  },
  {
   "cell_type": "code",
   "execution_count": 263,
   "id": "681837e2",
   "metadata": {},
   "outputs": [],
   "source": [
    "def outlier(df,col):\n",
    "    outliers=[]    \n",
    "    threshold=3\n",
    "    col_mean = np.mean(df[col])\n",
    "    col_std =np.std(df[col])\n",
    "    \n",
    "    for y in df[col]:\n",
    "        z_score= (y - col_mean)/col_std \n",
    "        if np.abs(z_score) > threshold:\n",
    "            outliers.append(y)\n",
    "    print('Number of outliers in this column ( ',col,' ): ',len(outliers)) \n",
    "    if len(outliers)>0:\n",
    "        tenth_percentile = np.percentile(df[col], 10)\n",
    "        ninetieth_percentile = np.percentile(df[col], 90)\n",
    "        a = np.where(df[col]<tenth_percentile, tenth_percentile, df[col])\n",
    "        b = np.where(a>ninetieth_percentile, ninetieth_percentile, a)\n",
    "        df[col]=b\n",
    "    outliers=[]    \n",
    "    threshold=3\n",
    "    col_mean = np.mean(df[col])\n",
    "    col_std =np.std(df[col])\n",
    "    \n",
    "    for y in df[col]:\n",
    "        z_score= (y - col_mean)/col_std \n",
    "        if np.abs(z_score) > threshold:\n",
    "            outliers.append(y)\n",
    "    print('Number of outliers in this column ( ',col,' ) after treatment: ',len(outliers),'\\n')"
   ]
  },
  {
   "cell_type": "markdown",
   "id": "6076fd71",
   "metadata": {},
   "source": [
    "### Outlier treating every column"
   ]
  },
  {
   "cell_type": "code",
   "execution_count": 264,
   "id": "ed6c9cf8",
   "metadata": {},
   "outputs": [
    {
     "name": "stdout",
     "output_type": "stream",
     "text": [
      "Number of outliers in this column (  BALANCE  ):  196\n",
      "Number of outliers in this column (  BALANCE  ) after treatment:  0 \n",
      "\n",
      "Number of outliers in this column (  BALANCE_FREQUENCY  ):  182\n",
      "Number of outliers in this column (  BALANCE_FREQUENCY  ) after treatment:  0 \n",
      "\n",
      "Number of outliers in this column (  PURCHASES  ):  135\n",
      "Number of outliers in this column (  PURCHASES  ) after treatment:  0 \n",
      "\n",
      "Number of outliers in this column (  ONEOFF_PURCHASES  ):  122\n",
      "Number of outliers in this column (  ONEOFF_PURCHASES  ) after treatment:  0 \n",
      "\n",
      "Number of outliers in this column (  INSTALLMENTS_PURCHASES  ):  137\n",
      "Number of outliers in this column (  INSTALLMENTS_PURCHASES  ) after treatment:  0 \n",
      "\n",
      "Number of outliers in this column (  CASH_ADVANCE  ):  182\n",
      "Number of outliers in this column (  CASH_ADVANCE  ) after treatment:  0 \n",
      "\n",
      "Number of outliers in this column (  PURCHASES_FREQUENCY  ):  0\n",
      "Number of outliers in this column (  PURCHASES_FREQUENCY  ) after treatment:  0 \n",
      "\n",
      "Number of outliers in this column (  ONEOFF_PURCHASES_FREQUENCY  ):  0\n",
      "Number of outliers in this column (  ONEOFF_PURCHASES_FREQUENCY  ) after treatment:  0 \n",
      "\n",
      "Number of outliers in this column (  PURCHASES_INSTALLMENTS_FREQUENCY  ):  0\n",
      "Number of outliers in this column (  PURCHASES_INSTALLMENTS_FREQUENCY  ) after treatment:  0 \n",
      "\n",
      "Number of outliers in this column (  CASH_ADVANCE_FREQUENCY  ):  199\n",
      "Number of outliers in this column (  CASH_ADVANCE_FREQUENCY  ) after treatment:  0 \n",
      "\n",
      "Number of outliers in this column (  CASH_ADVANCE_TRX  ):  172\n",
      "Number of outliers in this column (  CASH_ADVANCE_TRX  ) after treatment:  0 \n",
      "\n",
      "Number of outliers in this column (  PURCHASES_TRX  ):  185\n",
      "Number of outliers in this column (  PURCHASES_TRX  ) after treatment:  0 \n",
      "\n",
      "Number of outliers in this column (  CREDIT_LIMIT  ):  152\n",
      "Number of outliers in this column (  CREDIT_LIMIT  ) after treatment:  0 \n",
      "\n",
      "Number of outliers in this column (  PAYMENTS  ):  159\n",
      "Number of outliers in this column (  PAYMENTS  ) after treatment:  0 \n",
      "\n",
      "Number of outliers in this column (  MINIMUM_PAYMENTS  ):  102\n",
      "Number of outliers in this column (  MINIMUM_PAYMENTS  ) after treatment:  0 \n",
      "\n",
      "Number of outliers in this column (  PRC_FULL_PAYMENT  ):  0\n",
      "Number of outliers in this column (  PRC_FULL_PAYMENT  ) after treatment:  0 \n",
      "\n",
      "Number of outliers in this column (  TENURE  ):  393\n",
      "Number of outliers in this column (  TENURE  ) after treatment:  0 \n",
      "\n"
     ]
    }
   ],
   "source": [
    "for col in df.columns:\n",
    "    if df[col].dtype=='object':\n",
    "        continue\n",
    "    outlier(df,col)"
   ]
  },
  {
   "cell_type": "markdown",
   "id": "bc1159bf",
   "metadata": {},
   "source": [
    "## Q3) Dimensionality Reduction using PCA"
   ]
  },
  {
   "cell_type": "code",
   "execution_count": 273,
   "id": "85fe3c13",
   "metadata": {},
   "outputs": [],
   "source": [
    "pca=PCA(n_components=4)\n",
    "df_pca=pca.fit_transform(df)\n",
    "df_pca=pd.DataFrame(df_pca,columns=['PC1','PC2','PC3','PC4'])"
   ]
  },
  {
   "cell_type": "code",
   "execution_count": 274,
   "id": "02aa22f5",
   "metadata": {},
   "outputs": [
    {
     "data": {
      "text/html": [
       "<div>\n",
       "<style scoped>\n",
       "    .dataframe tbody tr th:only-of-type {\n",
       "        vertical-align: middle;\n",
       "    }\n",
       "\n",
       "    .dataframe tbody tr th {\n",
       "        vertical-align: top;\n",
       "    }\n",
       "\n",
       "    .dataframe thead th {\n",
       "        text-align: right;\n",
       "    }\n",
       "</style>\n",
       "<table border=\"1\" class=\"dataframe\">\n",
       "  <thead>\n",
       "    <tr style=\"text-align: right;\">\n",
       "      <th></th>\n",
       "      <th>PC1</th>\n",
       "      <th>PC2</th>\n",
       "      <th>PC3</th>\n",
       "      <th>PC4</th>\n",
       "    </tr>\n",
       "  </thead>\n",
       "  <tbody>\n",
       "    <tr>\n",
       "      <th>0</th>\n",
       "      <td>-3583.788994</td>\n",
       "      <td>-414.171607</td>\n",
       "      <td>-491.016619</td>\n",
       "      <td>63.364503</td>\n",
       "    </tr>\n",
       "    <tr>\n",
       "      <th>1</th>\n",
       "      <td>3892.356146</td>\n",
       "      <td>2316.904818</td>\n",
       "      <td>540.104794</td>\n",
       "      <td>1805.418810</td>\n",
       "    </tr>\n",
       "    <tr>\n",
       "      <th>2</th>\n",
       "      <td>3108.195393</td>\n",
       "      <td>-741.970571</td>\n",
       "      <td>-1236.305221</td>\n",
       "      <td>-1172.207392</td>\n",
       "    </tr>\n",
       "    <tr>\n",
       "      <th>3</th>\n",
       "      <td>2900.921900</td>\n",
       "      <td>-1548.145854</td>\n",
       "      <td>-980.559772</td>\n",
       "      <td>-1105.151406</td>\n",
       "    </tr>\n",
       "    <tr>\n",
       "      <th>4</th>\n",
       "      <td>-3260.204908</td>\n",
       "      <td>247.481115</td>\n",
       "      <td>-218.290385</td>\n",
       "      <td>-162.340167</td>\n",
       "    </tr>\n",
       "  </tbody>\n",
       "</table>\n",
       "</div>"
      ],
      "text/plain": [
       "           PC1          PC2          PC3          PC4\n",
       "0 -3583.788994  -414.171607  -491.016619    63.364503\n",
       "1  3892.356146  2316.904818   540.104794  1805.418810\n",
       "2  3108.195393  -741.970571 -1236.305221 -1172.207392\n",
       "3  2900.921900 -1548.145854  -980.559772 -1105.151406\n",
       "4 -3260.204908   247.481115  -218.290385  -162.340167"
      ]
     },
     "execution_count": 274,
     "metadata": {},
     "output_type": "execute_result"
    }
   ],
   "source": [
    "df_pca.head()"
   ]
  },
  {
   "cell_type": "code",
   "execution_count": 275,
   "id": "3552b9cd",
   "metadata": {},
   "outputs": [
    {
     "data": {
      "text/plain": [
       "array([0.65746161, 0.14629993, 0.1000068 , 0.05542616])"
      ]
     },
     "execution_count": 275,
     "metadata": {},
     "output_type": "execute_result"
    }
   ],
   "source": [
    "pca.explained_variance_ratio_"
   ]
  },
  {
   "cell_type": "markdown",
   "id": "22732806",
   "metadata": {},
   "source": [
    "We can see that 95 percent of the variance is explained when we use 4 Principal Components"
   ]
  },
  {
   "cell_type": "markdown",
   "id": "d591fd94",
   "metadata": {},
   "source": [
    "## Q3) Find the optimum value of k for k-means clustering using the elbow method. Plot the elbow curve"
   ]
  },
  {
   "cell_type": "code",
   "execution_count": 281,
   "id": "82ba0a0c",
   "metadata": {},
   "outputs": [],
   "source": [
    "wcss = [] \n",
    "for i in range(1, 11): \n",
    "    kmeans = KMeans(n_clusters = i, init = 'k-means++')\n",
    "    kmeans.fit(df) \n",
    "    wcss.append(kmeans.inertia_)"
   ]
  },
  {
   "cell_type": "code",
   "execution_count": 284,
   "id": "ea821e80",
   "metadata": {},
   "outputs": [
    {
     "data": {
      "image/png": "[encoded data removed]",
      "text/plain": [
       "<Figure size 432x288 with 1 Axes>"
      ]
     },
     "metadata": {
      "needs_background": "light"
     },
     "output_type": "display_data"
    }
   ],
   "source": [
    "plt.plot(range(1, 11), wcss)\n",
    "plt.xlabel('Number of clusters')\n",
    "plt.ylabel('Within Cluster Sum of Square') \n",
    "plt.show()"
   ]
  },
  {
   "cell_type": "markdown",
   "id": "73487f54",
   "metadata": {},
   "source": [
    "Using the elbow method we can see that the **optimal number of clusters is 2**"
   ]
  },
  {
   "cell_type": "markdown",
   "id": "853650b6",
   "metadata": {},
   "source": [
    "## Q5) Find the optimum value of k for k-means clustering using the silhouette score method and specify the number of observations in each cluster using a bar plot"
   ]
  },
  {
   "cell_type": "code",
   "execution_count": 309,
   "id": "38d7f64d",
   "metadata": {},
   "outputs": [
    {
     "name": "stdout",
     "output_type": "stream",
     "text": [
      "For k = 2, silhouette score is 0.46936864138763346\n",
      "For k = 3, silhouette score is 0.4198535603441116\n",
      "For k = 4, silhouette score is 0.3260801094769841\n",
      "For k = 5, silhouette score is 0.3298537037732784\n"
     ]
    }
   ],
   "source": [
    "k = [2,3, 4, 5]\n",
    "for K in k :\n",
    "    model = KMeans (n_clusters= K)\n",
    "    predicted = model.fit_predict(df)\n",
    "    score = silhouette_score(df, predicted)\n",
    "    print (\"For k = {}, silhouette score is {}\".format(K, score))"
   ]
  },
  {
   "cell_type": "markdown",
   "id": "bb616a16",
   "metadata": {},
   "source": [
    "We can see that the optimum number of clusters is 2"
   ]
  },
  {
   "cell_type": "code",
   "execution_count": 318,
   "id": "a295d516",
   "metadata": {},
   "outputs": [],
   "source": [
    "km = KMeans(n_clusters=2).fit(df)\n",
    "cluster_map = pd.DataFrame()\n",
    "cluster_map['data_index'] = df.index.values\n",
    "cluster_map['cluster'] = km.labels_"
   ]
  },
  {
   "cell_type": "code",
   "execution_count": 332,
   "id": "7c8a4bf9",
   "metadata": {},
   "outputs": [
    {
     "data": {
      "text/plain": [
       "0    5805\n",
       "1    3144\n",
       "Name: cluster, dtype: int64"
      ]
     },
     "execution_count": 332,
     "metadata": {},
     "output_type": "execute_result"
    }
   ],
   "source": [
    "cluster_map.cluster.value_counts()"
   ]
  },
  {
   "cell_type": "markdown",
   "id": "e760da3e",
   "metadata": {},
   "source": [
    "We can see that there are 5805 samples in 1st cluster and 3144 samples in 2nd cluster"
   ]
  }
 ],
 "metadata": {
  "kernelspec": {
   "display_name": "Python 3 (ipykernel)",
   "language": "python",
   "name": "python3"
  },
  "language_info": {
   "codemirror_mode": {
    "name": "ipython",
    "version": 3
   },
   "file_extension": ".py",
   "mimetype": "text/x-python",
   "name": "python",
   "nbconvert_exporter": "python",
   "pygments_lexer": "ipython3",
   "version": "3.9.7"
  }
 },
 "nbformat": 4,
 "nbformat_minor": 5
}

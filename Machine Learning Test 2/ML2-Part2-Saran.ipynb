{
 "cells": [
  {
   "cell_type": "markdown",
   "id": "264ddd6e",
   "metadata": {},
   "source": [
    "# Part II - Deep Learning"
   ]
  },
  {
   "cell_type": "markdown",
   "id": "f1e92703",
   "metadata": {},
   "source": [
    "### Importing Necessary Libraries"
   ]
  },
  {
   "cell_type": "code",
   "execution_count": 1,
   "id": "8d2b50e6",
   "metadata": {},
   "outputs": [],
   "source": [
    "import pandas as pd\n",
    "from keras.models import Sequential\n",
    "from keras.layers import Dense, Dropout, Activation\n",
    "from keras.wrappers.scikit_learn import KerasClassifier\n",
    "from keras.utils import np_utils\n",
    "from sklearn.model_selection import cross_val_score\n",
    "from sklearn.model_selection import KFold\n",
    "from sklearn.preprocessing import LabelEncoder\n",
    "from sklearn.pipeline import Pipeline\n",
    "from warnings import filterwarnings\n",
    "filterwarnings('ignore')"
   ]
  },
  {
   "cell_type": "markdown",
   "id": "a98a1aa0",
   "metadata": {},
   "source": [
    "### Creating a copy of the original dataframe to work on"
   ]
  },
  {
   "cell_type": "code",
   "execution_count": 2,
   "id": "4dc6a908",
   "metadata": {},
   "outputs": [],
   "source": [
    "org=pd.read_csv('Sentiment.csv')"
   ]
  },
  {
   "cell_type": "code",
   "execution_count": 3,
   "id": "6a9de894",
   "metadata": {},
   "outputs": [],
   "source": [
    "df=org.copy()"
   ]
  },
  {
   "cell_type": "markdown",
   "id": "12607ad3",
   "metadata": {},
   "source": [
    "### Shape Check"
   ]
  },
  {
   "cell_type": "code",
   "execution_count": 6,
   "id": "07bee2ff",
   "metadata": {},
   "outputs": [
    {
     "data": {
      "text/plain": [
       "(13871, 21)"
      ]
     },
     "execution_count": 6,
     "metadata": {},
     "output_type": "execute_result"
    }
   ],
   "source": [
    "df.shape"
   ]
  },
  {
   "cell_type": "markdown",
   "id": "06ac9acc",
   "metadata": {},
   "source": [
    "### Null Check"
   ]
  },
  {
   "cell_type": "code",
   "execution_count": 4,
   "id": "98fc5465",
   "metadata": {},
   "outputs": [
    {
     "data": {
      "text/plain": [
       "id                               0\n",
       "candidate                       96\n",
       "candidate_confidence             0\n",
       "relevant_yn                      0\n",
       "relevant_yn_confidence           0\n",
       "sentiment                        0\n",
       "sentiment_confidence             0\n",
       "subject_matter                 326\n",
       "subject_matter_confidence        0\n",
       "candidate_gold               13843\n",
       "name                             0\n",
       "relevant_yn_gold             13839\n",
       "retweet_count                    0\n",
       "sentiment_gold               13856\n",
       "subject_matter_gold          13853\n",
       "text                             0\n",
       "tweet_coord                  13850\n",
       "tweet_created                    0\n",
       "tweet_id                         0\n",
       "tweet_location                3912\n",
       "user_timezone                 4403\n",
       "dtype: int64"
      ]
     },
     "execution_count": 4,
     "metadata": {},
     "output_type": "execute_result"
    }
   ],
   "source": [
    "df.isnull().sum()"
   ]
  },
  {
   "cell_type": "markdown",
   "id": "45f9eed7",
   "metadata": {},
   "source": [
    "### Missing Value Treatment"
   ]
  },
  {
   "cell_type": "code",
   "execution_count": 7,
   "id": "0a9ded6d",
   "metadata": {},
   "outputs": [],
   "source": [
    "df.drop(['candidate_gold','relevant_yn_gold','sentiment_gold','subject_matter_gold','tweet_coord'],axis=1,inplace=True)"
   ]
  },
  {
   "cell_type": "code",
   "execution_count": 19,
   "id": "61220560",
   "metadata": {},
   "outputs": [],
   "source": [
    "df.tweet_location.fillna(df.tweet_location.mode()[0],inplace=True)"
   ]
  },
  {
   "cell_type": "code",
   "execution_count": 20,
   "id": "99d81d97",
   "metadata": {},
   "outputs": [],
   "source": [
    "df.user_timezone.fillna(df.user_timezone.mode()[0],inplace=True)"
   ]
  },
  {
   "cell_type": "code",
   "execution_count": 21,
   "id": "c07c186c",
   "metadata": {},
   "outputs": [],
   "source": [
    "df.subject_matter.fillna(df.subject_matter.mode()[0],inplace=True)"
   ]
  },
  {
   "cell_type": "code",
   "execution_count": 22,
   "id": "3718880c",
   "metadata": {},
   "outputs": [],
   "source": [
    "df.candidate.fillna(df.candidate.mode()[0],inplace=True)"
   ]
  },
  {
   "cell_type": "markdown",
   "id": "7fb53c8d",
   "metadata": {},
   "source": [
    "### Encoding"
   ]
  },
  {
   "cell_type": "code",
   "execution_count": 26,
   "id": "1ba42c6e",
   "metadata": {},
   "outputs": [],
   "source": [
    "enc_df=pd.get_dummies(df)"
   ]
  },
  {
   "cell_type": "code",
   "execution_count": 28,
   "id": "b8dd77a7",
   "metadata": {},
   "outputs": [],
   "source": [
    "enc_df=enc_df.to_numpy()"
   ]
  },
  {
   "cell_type": "markdown",
   "id": "f2e88315",
   "metadata": {},
   "source": [
    "### Creating Neural Network"
   ]
  },
  {
   "cell_type": "code",
   "execution_count": 29,
   "id": "0377b7ea",
   "metadata": {},
   "outputs": [],
   "source": [
    "model = Sequential()\n",
    "model.add(Dense(8, input_dim=40, activation='relu'))\n",
    "model.add(Dense(3, activation='softmax'))\n",
    "model.compile(loss='categorical_crossentropy', optimizer='adam', metrics=['accuracy'])"
   ]
  },
  {
   "cell_type": "code",
   "execution_count": 30,
   "id": "336fc2a9",
   "metadata": {},
   "outputs": [],
   "source": [
    "kfold = KFold(n_splits=10, shuffle=True)"
   ]
  },
  {
   "cell_type": "code",
   "execution_count": null,
   "id": "ddb7f2da",
   "metadata": {},
   "outputs": [],
   "source": []
  }
 ],
 "metadata": {
  "kernelspec": {
   "display_name": "Python 3 (ipykernel)",
   "language": "python",
   "name": "python3"
  },
  "language_info": {
   "codemirror_mode": {
    "name": "ipython",
    "version": 3
   },
   "file_extension": ".py",
   "mimetype": "text/x-python",
   "name": "python",
   "nbconvert_exporter": "python",
   "pygments_lexer": "ipython3",
   "version": "3.9.7"
  }
 },
 "nbformat": 4,
 "nbformat_minor": 5
}
